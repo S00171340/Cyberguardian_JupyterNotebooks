{
 "cells": [
  {
   "cell_type": "code",
   "execution_count": null,
   "id": "confirmed-negotiation",
   "metadata": {},
   "outputs": [],
   "source": [
    "#Utility\n",
    "import pandas as pd\n",
    "import numpy as np\n",
    "\n",
    "#Plotting\n",
    "import matplotlib.pyplot as plt\n",
    "import seaborn as sns\n",
    "from wordcloud import WordCloud, STOPWORDS as wc_stp\n",
    "\n",
    "#Sklearn\n",
    "import sklearn.feature_extraction.text\n",
    "from sklearn.feature_extraction.text import CountVectorizer\n",
    "from sklearn.feature_extraction.text import TfidfVectorizer as tvect\n",
    "from sklearn.linear_model import LogisticRegression \n",
    "from sklearn.naive_bayes import MultinomialNB\n",
    "from sklearn . decomposition import PCA\n",
    "##Metrics and Testing\n",
    "from sklearn.model_selection import cross_val_score\n",
    "from sklearn.model_selection import train_test_split\n",
    "from sklearn import metrics\n",
    "from sklearn.metrics import classification_report\n",
    "from sklearn.metrics import confusion_matrix\n",
    "from sklearn.model_selection import GridSearchCV\n",
    "from sklearn.pipeline import make_pipeline, Pipeline\n",
    "from sklearn.preprocessing import StandardScaler\n",
    "##Models\n",
    "from sklearn.linear_model import LogisticRegression\n",
    "from sklearn.svm import LinearSVC, SVC\n",
    "from sklearn.model_selection import cross_val_score\n",
    "from sklearn.neighbors import KNeighborsClassifier\n",
    "from sklearn.naive_bayes import GaussianNB"
   ]
  },
  {
   "cell_type": "code",
   "execution_count": null,
   "id": "desirable-sarah",
   "metadata": {},
   "outputs": [],
   "source": [
    "df = pd.read_csv('datasets/final_bullying_dataset.csv')"
   ]
  },
  {
   "cell_type": "code",
   "execution_count": null,
   "id": "central-vienna",
   "metadata": {},
   "outputs": [],
   "source": [
    "#Under-Sampling to rebalance the dataset\n",
    "#df.loc[df['oh_label'] == 1.0].count()\n",
    "dfA = df.loc[df['oh_label'] == 0.0]\n",
    "dfB = df.loc[df['oh_label'] == 1.0]\n",
    "\n",
    "dfA = dfA.sample(n=6000)\n",
    "dfB = dfB.sample(n=5700)\n",
    "\n",
    "df = pd.concat([dfA,dfB])"
   ]
  },
  {
   "cell_type": "code",
   "execution_count": null,
   "id": "trying-family",
   "metadata": {},
   "outputs": [],
   "source": [
    "#Exploring the data\n",
    "fig = plt.figure(figsize=(8,6))\n",
    "df.groupby('oh_label').Text.count().plot.bar(ylim=0)\n",
    "plt.show()"
   ]
  }
 ],
 "metadata": {
  "kernelspec": {
   "display_name": "Python 3",
   "language": "python",
   "name": "python3"
  },
  "language_info": {
   "codemirror_mode": {
    "name": "ipython",
    "version": 3
   },
   "file_extension": ".py",
   "mimetype": "text/x-python",
   "name": "python",
   "nbconvert_exporter": "python",
   "pygments_lexer": "ipython3",
   "version": "3.7.9"
  }
 },
 "nbformat": 4,
 "nbformat_minor": 5
}
