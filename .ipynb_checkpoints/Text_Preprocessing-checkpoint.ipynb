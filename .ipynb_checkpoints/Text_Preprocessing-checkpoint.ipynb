{
 "cells": [
  {
   "cell_type": "code",
   "execution_count": null,
   "metadata": {},
   "outputs": [],
   "source": [
    "#Imports\n",
    "import pandas as pd\n",
    "import string\n",
    "import nltk\n",
    "from nltk.corpus import stopwords\n",
    "#Uncomment these if you haven't downloaded them\n",
    "#nltk.download('punkt')\n",
    "#nltk.download('stopwords')"
   ]
  },
  {
   "cell_type": "code",
   "execution_count": null,
   "metadata": {},
   "outputs": [],
   "source": [
    "#Concat all Dataframes into one.\n",
    "df1 = pd.read_csv(\"datasets/aggression_parsed_dataset.csv\")\n",
    "df2 = pd.read_csv(\"datasets/attack_parsed_dataset.csv\")\n",
    "df3 = pd.read_csv(\"datasets/kaggle_parsed_dataset.csv\")\n",
    "df4 = pd.read_csv(\"datasets/toxicity_parsed_dataset.csv\")\n",
    "df5 = pd.read_csv(\"datasets/twitter_parsed_dataset.csv\")\n",
    "df6 = pd.read_csv(\"datasets/twitter_racism_parsed_dataset.csv\")\n",
    "df7 = pd.read_csv(\"datasets/twitter_sexism_parsed_dataset.csv\")\n",
    "df8 = pd.read_csv(\"datasets/youtube_parsed_dataset.csv\")\n",
    "\n",
    "concat_list = [df1,df2,df3,df4,df5,df6,df7,df8]\n",
    "result = pd.concat(concat_list, ignore_index=True)"
   ]
  },
  {
   "cell_type": "code",
   "execution_count": null,
   "metadata": {},
   "outputs": [],
   "source": [
    "#Take the two columns we need, Text (for analysis) and harmful content indicator (oh_label)\n",
    "result = result[['Text','oh_label']]"
   ]
  },
  {
   "cell_type": "code",
   "execution_count": null,
   "metadata": {},
   "outputs": [],
   "source": [
    "#Remove empty values from dataframe\n",
    "result = result[result.Text != \" \"]\n",
    "result = result.dropna()"
   ]
  },
  {
   "cell_type": "code",
   "execution_count": null,
   "metadata": {},
   "outputs": [],
   "source": [
    "#Finally, randomize the dataframe for later train/test splitting\n",
    "result = result.sample(frac=1).reset_index(drop=True)"
   ]
  },
  {
   "cell_type": "code",
   "execution_count": null,
   "metadata": {},
   "outputs": [],
   "source": [
    "print(\"Final length of dataset is: \",len(result))"
   ]
  },
  {
   "cell_type": "code",
   "execution_count": null,
   "metadata": {},
   "outputs": [],
   "source": [
    "result_copy = result"
   ]
  },
  {
   "cell_type": "code",
   "execution_count": null,
   "metadata": {},
   "outputs": [],
   "source": [
    "result = result_copy"
   ]
  },
  {
   "cell_type": "code",
   "execution_count": null,
   "metadata": {},
   "outputs": [],
   "source": [
    "#Convert text to lowercase and remove all punctuation, whitespace and numbers.\n",
    "result['Text'] = result.Text.str.lower()\n",
    "result['Text'] = result['Text'].str.replace('\\d+', '')\n",
    "result['Text'] = result.Text.str.replace('[^\\w\\s]','')\n",
    "result['Text'] = result.Text.str.strip()"
   ]
  },
  {
   "cell_type": "code",
   "execution_count": null,
   "metadata": {},
   "outputs": [],
   "source": [
    "#Remove stopwords from dataframe as they have no bearing on sentiment\n",
    "result = result.dropna()\n",
    "stop = set(stopwords.words('english'))\n",
    "result['Text'] = result['Text'].apply(lambda x: [item for item in str(x).split() if item not in stop])"
   ]
  },
  {
   "cell_type": "code",
   "execution_count": null,
   "metadata": {},
   "outputs": [],
   "source": [
    "#Adding lemmatization (Removing suffixes from words)\n",
    "from nltk.stem import WordNetLemmatizer as wnl\n",
    "lem = wnl()\n",
    "def lemmatize_text(row):\n",
    "    return [lem.lemmatize(w) for w in row]"
   ]
  },
  {
   "cell_type": "code",
   "execution_count": null,
   "metadata": {},
   "outputs": [],
   "source": [
    "result['Text'] = result['Text'].apply(lemmatize_text)\n",
    "#result.iloc[0].Text"
   ]
  },
  {
   "cell_type": "code",
   "execution_count": null,
   "metadata": {},
   "outputs": [],
   "source": [
    "#Final result of preprocessing\n",
    "ex = result.loc[result['oh_label'] == 1.0].head()\n",
    "ex.iloc[0].Text"
   ]
  },
  {
   "cell_type": "code",
   "execution_count": null,
   "metadata": {},
   "outputs": [],
   "source": [
    "#Print dataframe to CSV file\n",
    "result.to_csv(path_or_buf='datasets/final_bullying_dataset.csv',index=False)"
   ]
  }
 ],
 "metadata": {
  "kernelspec": {
   "display_name": "Python 3",
   "language": "python",
   "name": "python3"
  },
  "language_info": {
   "codemirror_mode": {
    "name": "ipython",
    "version": 3
   },
   "file_extension": ".py",
   "mimetype": "text/x-python",
   "name": "python",
   "nbconvert_exporter": "python",
   "pygments_lexer": "ipython3",
   "version": "3.7.9"
  }
 },
 "nbformat": 4,
 "nbformat_minor": 4
}
